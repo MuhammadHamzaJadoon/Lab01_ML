{
 "cells": [
  {
   "cell_type": "code",
   "execution_count": 1,
   "id": "d45f96c6",
   "metadata": {},
   "outputs": [],
   "source": [
    "import pandas as pd\n",
    "import numpy as np\n",
    "\n",
    "df = pd.read_csv(\"play_tennis.csv\")\n",
    "df = df.drop(\"day\",axis=1)\n",
    "arr = df.values.tolist()\n"
   ]
  },
  {
   "cell_type": "code",
   "execution_count": 2,
   "id": "f64bbbf3",
   "metadata": {},
   "outputs": [],
   "source": [
    "# x=[]\n",
    "# for i in df:\n",
    "#     x.append(df[i].unique())\n",
    "# x"
   ]
  },
  {
   "cell_type": "code",
   "execution_count": 3,
   "id": "eb447161",
   "metadata": {},
   "outputs": [],
   "source": [
    "# y = []\n",
    "# for column in df:\n",
    "#     print(df[column].values)\n",
    "#     y.append(df[column].values)\n",
    "#     print()"
   ]
  },
  {
   "cell_type": "code",
   "execution_count": 4,
   "id": "cbb8f16f",
   "metadata": {},
   "outputs": [],
   "source": [
    "# comp=y[4]\n",
    "# print(len(comp))\n",
    "# prob_outlook=[]\n",
    "# c1=0\n",
    "# c2=0\n",
    "# c3=0\n",
    "# count=0\n",
    "# arr=[]\n",
    "# arr1=[]\n",
    "# for a in x:\n",
    "#     for b in a:\n",
    "# #         print(b)\n",
    "\n",
    "#         for i in y:\n",
    "#             for j in i:\n",
    "                \n",
    "#                 if b==j and comp[count]==\"No\":\n",
    "#                     c1+=1\n",
    "#                 if b==j and comp[count]==\"Yes\":\n",
    "#                     c2+=1\n",
    "                    \n",
    "# #                 print(j)\n",
    "#                 count+=1\n",
    "# #             print()  \n",
    "#             count=0\n",
    "#         arr.append(c1)\n",
    "#         arr.append(c2)\n",
    "#         c1=0\n",
    "#         c2=0\n",
    "#     arr1.append(arr)\n",
    "#     arr=[]\n"
   ]
  },
  {
   "cell_type": "code",
   "execution_count": 5,
   "id": "83ca7519",
   "metadata": {},
   "outputs": [],
   "source": [
    "# sunny_dic={}\n",
    "# overcast_dic={}\n",
    "# rain_dic={}\n",
    "\n",
    "# hot_dic={}\n",
    "# mild_dic={}\n",
    "# cool_dic={}\n",
    "\n",
    "# high_dic={}\n",
    "# normal_dic={}\n",
    "\n",
    "# weak_dic={}\n",
    "# strong_dic={}\n",
    "\n",
    "\n",
    "\n",
    "# sunny_dic[0]=arr1[0][0]\n",
    "# sunny_dic[1]=arr1[0][1]\n",
    "# overcast_dic[0]=arr1[0][2]\n",
    "# overcast_dic[1]=arr1[0][3]\n",
    "# rain_dic[0]=arr1[0][4]\n",
    "# rain_dic[1]=arr1[0][5]\n",
    "\n",
    "# hot_dic[0]=arr1[1][0]\n",
    "# hot_dic[1]=arr1[1][1]\n",
    "# mild_dic[0]=arr1[1][2]\n",
    "# mild_dic[1]=arr1[1][3]\n",
    "# cool_dic[0]=arr1[1][4]\n",
    "# cool_dic[1]=arr1[1][5]\n",
    "\n",
    "# high_dic[0]=arr1[2][0]\n",
    "# high_dic[1]=arr1[2][1]\n",
    "# normal_dic[0]=arr1[2][2]\n",
    "# normal_dic[1]=arr1[2][3]\n",
    "\n",
    "# weak_dic[0]=arr1[3][0]\n",
    "# weak_dic[1]=arr1[3][1] \n",
    "# strong_dic[0]=arr1[3][2]\n",
    "# strong_dic[1]=arr1[3][3]"
   ]
  },
  {
   "cell_type": "markdown",
   "id": "10ba804c",
   "metadata": {},
   "source": [
    "# Task 1"
   ]
  },
  {
   "cell_type": "code",
   "execution_count": 132,
   "id": "21e9de81",
   "metadata": {},
   "outputs": [
    {
     "name": "stdout",
     "output_type": "stream",
     "text": [
      "enter conditions\n",
      "Sunny\n",
      "Hot\n",
      "High\n",
      "Weak\n",
      "\n",
      "no :  0.02742857142857143\n"
     ]
    }
   ],
   "source": [
    "def fit(df,play,outlooks,temps,humiditys,winds):\n",
    "    \n",
    "    prob=0\n",
    "    p1 = 0\n",
    "    p2 = 0\n",
    "    p3 = 0\n",
    "    p4 = 0\n",
    "    \n",
    "    for i in range(len(df['play'])):\n",
    "        \n",
    "        if df['outlook'][i] == outlooks and df['play'][i] == play:\n",
    "            p1+=1\n",
    "        if df['temp'][i] == temps and df['play'][i] == play:\n",
    "            p2+=1   \n",
    "        if df['humidity'][i] == humiditys and df['play'][i] == play:\n",
    "            p3+=1   \n",
    "        if df['wind'][i] == winds and df['play'][i] == play:\n",
    "            p4+=1   \n",
    "        if df['play'][i] == play:\n",
    "            prob+=1\n",
    "\n",
    "    prob1 = p1/prob\n",
    "    prob2 = p2/prob\n",
    "    prob3 = p3/prob\n",
    "    prob4 = p4/prob\n",
    "    prob=prob/len(df['play'])\n",
    "    \n",
    "    return prob*prob1*prob2*prob3*prob4\n",
    "\n",
    "w=[[]]*4\n",
    "print(\"enter conditions\")\n",
    "for i in range(len(w)):\n",
    "    w[i] = input()\n",
    "\n",
    "\n",
    "neg = fit(df,\"No\",w[0],w[1],w[2],w[3])\n",
    "pos = fit(df,\"Yes\",w[0],w[1],w[2],w[3])\n",
    "\n",
    "print()\n",
    "if pos>neg:\n",
    "    print('yes : ',pos)\n",
    "else:\n",
    "    print('no : ',neg)\n",
    "\n"
   ]
  },
  {
   "cell_type": "markdown",
   "id": "1d08965b",
   "metadata": {},
   "source": [
    "# Task 2 - nav_bayesian"
   ]
  },
  {
   "cell_type": "code",
   "execution_count": 133,
   "id": "79dc8afe",
   "metadata": {},
   "outputs": [
    {
     "name": "stdout",
     "output_type": "stream",
     "text": [
      "enter string : i love mangoes\n"
     ]
    }
   ],
   "source": [
    "str1 = ['I love mangoes','Mangoes are a lot tastier than other fruits','I like mangoes because they are good',\n",
    "        'Apples are good too but I prefer mangoes','People say mango is the king of fruit so that is why mangoes are good',\n",
    "        'Mangoes are good because they are juicy']\n",
    "\n",
    "str2 = ['Eating too many mangoes can have a negative impact on your health','Mangoes are good but not too good, I like apples more than mangoes',\n",
    "        'I don’t like mangoes because they are expensive','Mangoes are not good','I don’t like mangoes']\n",
    "\n",
    "len_str1=0\n",
    "len_str2=0\n",
    "for i in range(len(str1)):\n",
    "    len_str1 +=len(str1[i].split())\n",
    "\n",
    "for i in range(len(str2)):\n",
    "    len_str2 +=len(str2[i].split())\n",
    "    \n",
    "# print(len_str1)\n",
    "# print(len_str2)\n",
    "\n",
    "\n",
    "user = input(\"enter string : \")\n",
    "user = user.lower()\n",
    "user = user.split()\n"
   ]
  },
  {
   "cell_type": "code",
   "execution_count": 135,
   "id": "09424961",
   "metadata": {},
   "outputs": [
    {
     "name": "stdout",
     "output_type": "stream",
     "text": [
      "your sentence most likely exists in the negative class with prob :  0.0038937861662430365\n"
     ]
    }
   ],
   "source": [
    "def nav_bayesian(user,strr,lenn,n):\n",
    "\n",
    "    p=0\n",
    "    pp=[]\n",
    "    prob=1\n",
    "    for i in user:\n",
    "        for j in range(len(strr)):\n",
    "            t = strr[j].lower()\n",
    "            t = t.split()\n",
    "            for k in t:\n",
    "                if i == k:\n",
    "                    p+=1\n",
    "        pp.append(p)\n",
    "        p=0  \n",
    "    for i in pp:\n",
    "        pr = i/lenn\n",
    "        if pr!=0:\n",
    "            prob*=pr\n",
    "\n",
    "    return prob*n\n",
    "\n",
    "pos_no=5/11\n",
    "neg_no=4/11\n",
    "prob_in_pos = nav_bayesian(user,str1,len_str1,pos_no)\n",
    "prob_in_neg = nav_bayesian(user,str2,len_str2,neg_no)\n",
    "\n",
    "if prob_in_pos>prob_in_neg:\n",
    "    print(\"your sentence most likely exists in the positive class with prob : \", prob_in_pos)\n",
    "else:\n",
    "    print(\"your sentence most likely exists in the negative class with prob : \", prob_in_neg)"
   ]
  },
  {
   "cell_type": "markdown",
   "id": "ef97ac16",
   "metadata": {},
   "source": [
    "# Task 2 - baysian"
   ]
  },
  {
   "cell_type": "code",
   "execution_count": 158,
   "id": "662ec862",
   "metadata": {},
   "outputs": [
    {
     "data": {
      "text/plain": [
       "[['i', 'love', 'mangoes'],\n",
       " ['mangoes', 'are', 'a', 'lot', 'tastier', 'than', 'other', 'fruits'],\n",
       " ['i', 'like', 'mangoes', 'because', 'they', 'are', 'good'],\n",
       " ['apples', 'are', 'good', 'too', 'but', 'i', 'prefer', 'mangoes'],\n",
       " ['people',\n",
       "  'say',\n",
       "  'mango',\n",
       "  'is',\n",
       "  'the',\n",
       "  'king',\n",
       "  'of',\n",
       "  'fruit',\n",
       "  'so',\n",
       "  'that',\n",
       "  'is',\n",
       "  'why',\n",
       "  'mangoes',\n",
       "  'are',\n",
       "  'good'],\n",
       " ['mangoes', 'are', 'good', 'because', 'they', 'are', 'juicy']]"
      ]
     },
     "execution_count": 158,
     "metadata": {},
     "output_type": "execute_result"
    }
   ],
   "source": [
    "x=[]\n",
    "xx=[]\n",
    "for i in range(len(str1)):\n",
    "    x.append(str1[i].split())\n",
    "for i in range(len(x)):\n",
    "    xx.append(list(map(str.lower,x[i])))\n",
    "xx"
   ]
  },
  {
   "cell_type": "code",
   "execution_count": 154,
   "id": "f20a7f68",
   "metadata": {},
   "outputs": [],
   "source": [
    "partition=[]\n",
    "w=[]\n",
    "len_user = len(user)\n",
    "for i in range(len_user):\n",
    "    w=[]\n",
    "    if i!=0:\n",
    "        for j in range(i+1):\n",
    "            w.append(user[j])\n",
    "    else:\n",
    "        w=user[0]\n",
    "    partition.append(w)\n",
    "    "
   ]
  },
  {
   "cell_type": "code",
   "execution_count": 168,
   "id": "bb69a303",
   "metadata": {},
   "outputs": [
    {
     "data": {
      "text/plain": [
       "['i', 'i love', 'i love mangoes']"
      ]
     },
     "execution_count": 168,
     "metadata": {},
     "output_type": "execute_result"
    }
   ],
   "source": [
    "par=[]\n",
    "for i in range(len(partition)):\n",
    "    par.append(\" \".join(partition[i]))\n",
    "par"
   ]
  },
  {
   "cell_type": "code",
   "execution_count": 169,
   "id": "ebdea636",
   "metadata": {},
   "outputs": [
    {
     "name": "stdout",
     "output_type": "stream",
     "text": [
      "i\n",
      "love\n",
      "mangoes\n",
      "mangoes\n",
      "are\n",
      "a\n",
      "lot\n",
      "tastier\n",
      "than\n",
      "other\n",
      "fruits\n",
      "i\n",
      "like\n",
      "mangoes\n",
      "because\n",
      "they\n",
      "are\n",
      "good\n",
      "apples\n",
      "are\n",
      "good\n",
      "too\n",
      "but\n",
      "i\n",
      "prefer\n",
      "mangoes\n",
      "people\n",
      "say\n",
      "mango\n",
      "is\n",
      "the\n",
      "king\n",
      "of\n",
      "fruit\n",
      "so\n",
      "that\n",
      "is\n",
      "why\n",
      "mangoes\n",
      "are\n",
      "good\n",
      "mangoes\n",
      "are\n",
      "good\n",
      "because\n",
      "they\n",
      "are\n",
      "juicy\n",
      "\n"
     ]
    }
   ],
   "source": [
    "c=0\n",
    "pro=[]\n",
    "for a in range(len(user)):\n",
    "\n",
    "#     print(a)\n",
    "    if a==0:\n",
    "        for i in xx:\n",
    "            for j in i:\n",
    "\n",
    "                if user[a]==j:\n",
    "                    c+=1\n",
    "                print(j)\n",
    "        pro.append(c)\n",
    "        c=[]\n",
    "        print()\n",
    "    else:\n",
    "        \n",
    "        for k in range(a+1): # 0,1\n",
    "            \n",
    "            if user[0]==xx[a][a-1]:\n",
    "                print(\"yes\")\n",
    "        \n",
    "        \n",
    "    "
   ]
  },
  {
   "cell_type": "code",
   "execution_count": 164,
   "id": "5a9142f2",
   "metadata": {},
   "outputs": [
    {
     "data": {
      "text/plain": [
       "['i', 'love', 'mangoes']"
      ]
     },
     "execution_count": 164,
     "metadata": {},
     "output_type": "execute_result"
    }
   ],
   "source": [
    "user"
   ]
  },
  {
   "cell_type": "code",
   "execution_count": null,
   "id": "8b0c8a71",
   "metadata": {},
   "outputs": [],
   "source": []
  }
 ],
 "metadata": {
  "kernelspec": {
   "display_name": "Python 3 (ipykernel)",
   "language": "python",
   "name": "python3"
  },
  "language_info": {
   "codemirror_mode": {
    "name": "ipython",
    "version": 3
   },
   "file_extension": ".py",
   "mimetype": "text/x-python",
   "name": "python",
   "nbconvert_exporter": "python",
   "pygments_lexer": "ipython3",
   "version": "3.9.7"
  }
 },
 "nbformat": 4,
 "nbformat_minor": 5
}
