{
 "cells": [
  {
   "cell_type": "markdown",
   "id": "bd3fd94a",
   "metadata": {},
   "source": [
    "## Q1"
   ]
  },
  {
   "cell_type": "code",
   "execution_count": 12,
   "id": "10b27be2",
   "metadata": {},
   "outputs": [
    {
     "name": "stdout",
     "output_type": "stream",
     "text": [
      "0.26373626373626374\n"
     ]
    }
   ],
   "source": [
    "import math\n",
    "a=[0,1,2,3]\n",
    "s=[]\n",
    "for i in range(10):\n",
    "    s.append([])\n",
    "    \n",
    "w=6\n",
    "r=4\n",
    "b=5\n",
    "t=15\n",
    "d=3\n",
    "p=[]   \n",
    "f=math.factorial\n",
    "c=0\n",
    "for i in a:\n",
    "    for j in a:\n",
    "        for k in a:\n",
    "            if i+j+k==3:\n",
    "                s[c].append(i)\n",
    "                s[c].append(j)\n",
    "                s[c].append(k)\n",
    "                c+=1\n",
    "x = f(t)/(f(d)*(f(t-d)))    \n",
    "# s[10]\n",
    "for i in range(10):\n",
    "    p.append(((f(b)/(f(s[i][0])*(f(b-s[i][0])))) * (f(w)/(  f(s[i][1])*(f(w-s[i][1])))) * (f(r)/(f(s[i][2])*(f(r-s[i][2])))))/x)\n",
    "print(max(p))"
   ]
  },
  {
   "cell_type": "markdown",
   "id": "7a3368db",
   "metadata": {},
   "source": [
    "### Q2"
   ]
  },
  {
   "cell_type": "code",
   "execution_count": 3,
   "id": "e6f6f3be",
   "metadata": {},
   "outputs": [
    {
     "name": "stdout",
     "output_type": "stream",
     "text": [
      "           setosa_pl  setosa_pw  setosa_sl  setosa_sw\n",
      "setosa_pl   0.030021   0.159781   0.463513   0.259057\n",
      "setosa_pw   0.159781   1.500850   4.308117   2.369529\n",
      "setosa_sl   0.463513   4.308117  12.646997   7.004361\n",
      "setosa_sw   0.259057   2.369529   7.004361   3.951520\n",
      "\n",
      "               versicolor_pl  versicolor_pw  versicolor_sl  versicolor_sw\n",
      "versicolor_pl       0.220816       1.144155       0.614865       0.600645\n",
      "versicolor_pw       1.144155       8.823143       4.961959       4.502082\n",
      "versicolor_sl       0.614865       4.961959       3.132735       2.463020\n",
      "versicolor_sw       0.600645       4.502082       2.463020       2.363878\n",
      "\n",
      "              verginica_pl  verginica_pw  verginica_sl  verginica_sw\n",
      "verginica_pl      0.304588      1.590751      0.545686      1.166514\n",
      "verginica_pw      1.590751     12.761837      3.780902      9.323167\n",
      "verginica_sl      0.545686      3.780902      1.499543      2.712772\n",
      "verginica_sw      1.166514      9.323167      2.712772      6.885722\n",
      "\n"
     ]
    }
   ],
   "source": [
    "import pandas as pd\n",
    "import numpy as np\n",
    "\n",
    "data=pd.read_csv('./iris.data')\n",
    "data.columns=['SepalLength','SepalWidth','PetalLength','PetalWidth','Class']\n",
    "# print (data.describe())\n",
    "\n",
    "datalist=[]\n",
    "datalist.append(list(data['PetalLength'].dropna()))\n",
    "datalist.append(list(data['PetalWidth'].dropna()))\n",
    "datalist.append(list(data['SepalLength'].dropna()))\n",
    "datalist.append(list(data['SepalWidth'].dropna()))\n",
    "\n",
    "# print (\"PetalLength=\", datalist[0])\n",
    "# print (\"PetalWidth=\", datalist[1])\n",
    "# print (\"SepalLength=\", datalist[2])\n",
    "# print (\"SepalWidth=\", datalist[3])\n",
    "\n",
    "\n",
    "\n",
    "\n",
    "df=pd.DataFrame(datalist)\n",
    "x = data[\"Class\"].unique()\n",
    "y=[]\n",
    "for i in x:\n",
    "    y.append(data[data[\"Class\"]==i])\n",
    "\n",
    "info=[]\n",
    "for i in range(0,3):\n",
    "    o=[]\n",
    "    o.append(list(y[i]['PetalLength']))\n",
    "    o.append(list(y[i]['PetalWidth']))\n",
    "    o.append(list(y[i]['SepalLength']))\n",
    "    o.append(list(y[i]['SepalWidth']))\n",
    "    info.append(o)\n",
    "    \n",
    "    \n",
    "inf=np.array(info,dtype=object)\n",
    "mean_all=[]\n",
    "for h in range(0,3):\n",
    "    mean=[]\n",
    "    for i in range(0,4):\n",
    "        mean.append(np.mean(info[h][i]))\n",
    "    mean_all.append(mean)\n",
    "\n",
    "t2=[]\n",
    "for i in range(0,3):#---> runs all flower types [setosa,virgina,vesicolor]\n",
    "    t1=[]\n",
    "    for j in info[i]: # 4 times---> all features [pl,pw,sl,sw]\n",
    "        t=[]\n",
    "        c=0\n",
    "        for k in j:\n",
    "            if k-mean_all[i][c]>0:\n",
    "                t.append(k-mean_all[i][c])\n",
    "            else:\n",
    "                t.append(mean_all[i][c]-k)\n",
    "        t1.append(t)\n",
    "        c+=1\n",
    "    t2.append(t1)\n",
    "    \n",
    "# print(t2[0][3])\n",
    "\n",
    "\n",
    "dic1={\"setosa_pl\":t2[0][0],\"setosa_pw\":t2[0][1],\"setosa_sl\":t2[0][2],\"setosa_sw\":t2[0][3]}\n",
    "dic2={\"versicolor_pl\":t2[1][0],\"versicolor_pw\":t2[1][1],\"versicolor_sl\":t2[1][2],\"versicolor_sw\":t2[1][3]}\n",
    "dic3={\"verginica_pl\":t2[2][0],\"verginica_pw\":t2[2][1],\"verginica_sl\":t2[2][2],\"verginica_sw\":t2[2][3]}\n",
    "dic=[dic1,dic2,dic3]\n",
    "\n",
    "# print(t2[2][0])\n",
    "cov=[]\n",
    "for i in range(0,3):\n",
    "    df=pd.DataFrame(data=dic[i])\n",
    "    df1=df.T\n",
    "    df2=(df1.dot(df))/49\n",
    "    cov.append(df2)\n",
    "    print(df2)\n",
    "    print()\n",
    "\n",
    "q1 = cov[0].to_numpy()\n",
    "q2 = cov[1].to_numpy()\n",
    "q3 = cov[2].to_numpy()\n",
    " \n"
   ]
  },
  {
   "cell_type": "markdown",
   "id": "b7fb284b",
   "metadata": {},
   "source": [
    "## Bonus Task"
   ]
  },
  {
   "cell_type": "code",
   "execution_count": 11,
   "id": "32401ab6",
   "metadata": {},
   "outputs": [
    {
     "name": "stdout",
     "output_type": "stream",
     "text": [
      "201.152\n",
      "157.14999999999998\n"
     ]
    }
   ],
   "source": [
    "pi = 3.143\n",
    "v = 8\n",
    "vv = 5\n",
    "area = pi*(v**2)\n",
    "print(area)\n",
    "area_ = (pi*(vv**2))*2\n",
    "print(area_)"
   ]
  },
  {
   "cell_type": "code",
   "execution_count": null,
   "id": "a8487009",
   "metadata": {},
   "outputs": [],
   "source": []
  }
 ],
 "metadata": {
  "kernelspec": {
   "display_name": "Python 3 (ipykernel)",
   "language": "python",
   "name": "python3"
  },
  "language_info": {
   "codemirror_mode": {
    "name": "ipython",
    "version": 3
   },
   "file_extension": ".py",
   "mimetype": "text/x-python",
   "name": "python",
   "nbconvert_exporter": "python",
   "pygments_lexer": "ipython3",
   "version": "3.9.7"
  }
 },
 "nbformat": 4,
 "nbformat_minor": 5
}
